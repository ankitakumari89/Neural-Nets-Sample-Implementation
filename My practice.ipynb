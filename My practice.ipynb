{
 "cells": [
  {
   "cell_type": "code",
   "execution_count": 8,
   "id": "29df910a",
   "metadata": {},
   "outputs": [],
   "source": [
    "import numpy as np"
   ]
  },
  {
   "cell_type": "code",
   "execution_count": 9,
   "id": "8eb418d3",
   "metadata": {},
   "outputs": [
    {
     "data": {
      "text/plain": [
       "((4, 2), (4, 1))"
      ]
     },
     "execution_count": 9,
     "metadata": {},
     "output_type": "execute_result"
    }
   ],
   "source": [
    "X = np.array([[0,0],[0,1],[1,0],[1,1]])\n",
    "Y = np.array([[0,0,0,1]]).T\n",
    "X.shape, Y.shape"
   ]
  },
  {
   "cell_type": "code",
   "execution_count": 18,
   "id": "229f44a5",
   "metadata": {},
   "outputs": [],
   "source": [
    "def sig(z):\n",
    "    return (1/(1 + np.exp(-z)))"
   ]
  },
  {
   "cell_type": "code",
   "execution_count": 40,
   "id": "381094db",
   "metadata": {},
   "outputs": [],
   "source": [
    "w0 = 2 * np.random.random((2,2)) - 1\n",
    "b0 = 2 * np.random.random((1,2)) - 1\n",
    "\n",
    "wh = 2 * np.random.random((2,1)) -1\n",
    "bh = 2 * np.random.random((1,1)) - 1"
   ]
  },
  {
   "cell_type": "code",
   "execution_count": 41,
   "id": "589d77c3",
   "metadata": {},
   "outputs": [],
   "source": [
    "output0 = X\n",
    "outputh = sig(np.dot(output0,w0) + b0)\n",
    "output = sig(np.dot(outputh,wh) + bh)"
   ]
  },
  {
   "cell_type": "code",
   "execution_count": 44,
   "id": "33a13d6e",
   "metadata": {},
   "outputs": [
    {
     "data": {
      "text/plain": [
       "array([[ 0.45087275, -0.67713865],\n",
       "       [ 0.33424759, -0.31420854],\n",
       "       [ 1.26399219,  0.14256436],\n",
       "       [ 1.14736703,  0.50549446]])"
      ]
     },
     "execution_count": 44,
     "metadata": {},
     "output_type": "execute_result"
    }
   ],
   "source": [
    "a = np.dot(output0,w0) + b0\n",
    "a"
   ]
  },
  {
   "cell_type": "code",
   "execution_count": 49,
   "id": "10195ce3",
   "metadata": {},
   "outputs": [
    {
     "data": {
      "text/plain": [
       "array([[0.61084672, 0.33690023],\n",
       "       [0.58279252, 0.42208782],\n",
       "       [0.77971258, 0.53558085],\n",
       "       [0.75902967, 0.62374968]])"
      ]
     },
     "execution_count": 49,
     "metadata": {},
     "output_type": "execute_result"
    }
   ],
   "source": [
    "b =1/(np.exp(-a)+1)\n",
    "b"
   ]
  },
  {
   "cell_type": "code",
   "execution_count": 52,
   "id": "9ed83c8b",
   "metadata": {},
   "outputs": [
    {
     "data": {
      "text/plain": [
       "(4, 1)"
      ]
     },
     "execution_count": 52,
     "metadata": {},
     "output_type": "execute_result"
    }
   ],
   "source": [
    "c =sig(np.dot(outputh,wh) + bh)\n",
    "c.shape"
   ]
  },
  {
   "cell_type": "code",
   "execution_count": 51,
   "id": "6ce54cfd",
   "metadata": {},
   "outputs": [
    {
     "data": {
      "text/plain": [
       "array([[0.60003799],\n",
       "       [0.59691865],\n",
       "       [0.60243088],\n",
       "       [0.59955327]])"
      ]
     },
     "execution_count": 51,
     "metadata": {},
     "output_type": "execute_result"
    }
   ],
   "source": [
    "output"
   ]
  },
  {
   "cell_type": "code",
   "execution_count": 5,
   "id": "54a4a29d",
   "metadata": {},
   "outputs": [
    {
     "data": {
      "text/plain": [
       "(4,)"
      ]
     },
     "execution_count": 5,
     "metadata": {},
     "output_type": "execute_result"
    }
   ],
   "source": [
    "g = np.array([0,0,0,1])\n",
    "f = g.T\n",
    "g.shape"
   ]
  },
  {
   "cell_type": "markdown",
   "id": "2c8e3550",
   "metadata": {},
   "source": [
    "#### Neural network implementation for general network with hidden layers"
   ]
  },
  {
   "cell_type": "code",
   "execution_count": 16,
   "id": "5cebf61e",
   "metadata": {},
   "outputs": [],
   "source": [
    "import numpy as np"
   ]
  },
  {
   "cell_type": "code",
   "execution_count": 17,
   "id": "105b2a23",
   "metadata": {},
   "outputs": [
    {
     "data": {
      "text/plain": [
       "((4, 2), (4, 1))"
      ]
     },
     "execution_count": 17,
     "metadata": {},
     "output_type": "execute_result"
    }
   ],
   "source": [
    "X = np.array([[0,0],[0,1],[1,0],[1,1]])\n",
    "Y = np.array([[0],[1],[1],[0]])\n",
    "\n",
    "X.shape,Y.shape"
   ]
  },
  {
   "cell_type": "code",
   "execution_count": 18,
   "id": "6f75a473",
   "metadata": {},
   "outputs": [],
   "source": [
    "def derevativeSig(z):\n",
    "    return sig(z) * (1-sig(z))"
   ]
  },
  {
   "cell_type": "code",
   "execution_count": 19,
   "id": "efee36c5",
   "metadata": {},
   "outputs": [],
   "source": [
    "def sig(z):\n",
    "    return 1/(1 + np.exp(-z))"
   ]
  },
  {
   "cell_type": "code",
   "execution_count": 20,
   "id": "ec1b8c6c",
   "metadata": {},
   "outputs": [],
   "source": [
    "wh = 2 * np.random.random((2,2)) - 1\n",
    "bh = 2 * np.random.random((1,2)) - 1\n",
    "\n",
    "wo = 2 * np.random.random((2,1)) - 1\n",
    "bo = 2 * np.random.random((1,1)) - 1\n",
    "\n",
    "lr = 0.1"
   ]
  },
  {
   "cell_type": "code",
   "execution_count": 21,
   "id": "8f84e924",
   "metadata": {},
   "outputs": [
    {
     "data": {
      "text/plain": [
       "(array([[0.05730379],\n",
       "        [0.95234099],\n",
       "        [0.9484171 ],\n",
       "        [0.05132579]]),\n",
       " array([[-5.63813717,  4.59819663],\n",
       "        [ 5.72786554, -4.92299832]]),\n",
       " array([[-3.34847063, -2.55604971]]),\n",
       " array([[7.16954143],\n",
       "        [7.32287895]]),\n",
       " array([[-3.57115119]]))"
      ]
     },
     "execution_count": 21,
     "metadata": {},
     "output_type": "execute_result"
    }
   ],
   "source": [
    "  for itr in range(10000):\n",
    "    #forward propagation with hidden layers\n",
    "    output0 = X #output of input layer is X\n",
    "\n",
    "    inputHidden = np.dot(output0,wh) + bh\n",
    "    outputHidden = sig(inputHidden)\n",
    "\n",
    "    inputForOutputLayer = np.dot(outputHidden,wo) + bo\n",
    "    output = sig(inputForOutputLayer) #this is predicted output\n",
    "\n",
    "    #Back propagation with hidden output layer\n",
    "    first_term_output_layer = output - Y\n",
    "    second_term_output_layer = derevativeSig(inputForOutputLayer)\n",
    "    first_two_term_output_layer = first_term_output_layer * second_term_output_layer\n",
    "\n",
    "    first_term_hidden_layer = np.dot(first_two_term_output_layer, wo.T)\n",
    "    second_term_hidden_layer = derevativeSig(inputHidden)\n",
    "    first_two_term_hidden_layer = first_term_hidden_layer * second_term_hidden_layer\n",
    "\n",
    "    #chnage = first_two_term of current layer * output of previous layer\n",
    "    changes_output_layer = np.dot(outputHidden.T, first_two_term_output_layer) \n",
    "    changes_output_layer_bias = np.sum(first_two_term_output_layer, axis = 0, keepdims=True) #keeping the dimension same\n",
    "\n",
    "    changes_hidden_layer = np.dot(output0.T, first_two_term_hidden_layer) \n",
    "    changes_hidden_layer_bias = np.sum(first_two_term_hidden_layer, axis = 0, keepdims=True)\n",
    "\n",
    "    wo =wo - lr*changes_output_layer\n",
    "    bo = bo - lr*changes_output_layer_bias\n",
    "\n",
    "    wh =wh - lr*changes_hidden_layer\n",
    "    bh = bh - lr*changes_hidden_layer_bias \n",
    "\n",
    "#after updating the weights 10000 time,lets print the output\n",
    "output0 = X #output of input layer is X\n",
    "\n",
    "inputHidden = np.dot(output0,wh) + bh\n",
    "outputHidden = sig(inputHidden)\n",
    "\n",
    "inputForOutputLayer = np.dot(outputHidden,wo) + bo\n",
    "output = sig(inputForOutputLayer) #this is predicted output\n",
    "output, wh, bh, wo, bo"
   ]
  },
  {
   "cell_type": "code",
   "execution_count": null,
   "id": "23529060",
   "metadata": {},
   "outputs": [],
   "source": []
  }
 ],
 "metadata": {
  "kernelspec": {
   "display_name": "Python 3 (ipykernel)",
   "language": "python",
   "name": "python3"
  },
  "language_info": {
   "codemirror_mode": {
    "name": "ipython",
    "version": 3
   },
   "file_extension": ".py",
   "mimetype": "text/x-python",
   "name": "python",
   "nbconvert_exporter": "python",
   "pygments_lexer": "ipython3",
   "version": "3.9.7"
  }
 },
 "nbformat": 4,
 "nbformat_minor": 5
}
